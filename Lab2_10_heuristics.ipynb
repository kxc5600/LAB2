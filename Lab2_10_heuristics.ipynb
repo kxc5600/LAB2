{
  "nbformat": 4,
  "nbformat_minor": 0,
  "metadata": {
    "colab": {
      "name": "Lab2 -10 heuristics.ipynb",
      "provenance": [],
      "include_colab_link": true
    },
    "kernelspec": {
      "name": "python3",
      "display_name": "Python 3"
    }
  },
  "cells": [
    {
      "cell_type": "markdown",
      "metadata": {
        "id": "view-in-github",
        "colab_type": "text"
      },
      "source": [
        "<a href=\"https://colab.research.google.com/github/kxc5600/LAB2/blob/master/Lab2_10_heuristics.ipynb\" target=\"_parent\"><img src=\"https://colab.research.google.com/assets/colab-badge.svg\" alt=\"Open In Colab\"/></a>"
      ]
    },
    {
      "cell_type": "markdown",
      "metadata": {
        "id": "6JgrRYtyWUTc",
        "colab_type": "text"
      },
      "source": [
        "# Ten Usability Heuristics\n",
        "\n",
        "### Developed by Jakob Nielsen"
      ]
    },
    {
      "cell_type": "markdown",
      "metadata": {
        "id": "ep30Q_iPWdnT",
        "colab_type": "text"
      },
      "source": [
        "For our lab, we will be evaluating the ten heuristics using the following webpage: \n",
        "\n",
        "http://www.yahoo.com"
      ]
    },
    {
      "cell_type": "markdown",
      "metadata": {
        "id": "p1w1Wmt5WuFD",
        "colab_type": "text"
      },
      "source": [
        "### Visibility of system status\n",
        "The system should always keep users informed about what is going on, through appropriate feedback within reasonable time.\n",
        "\n",
        "![pic](https://raw.githubusercontent.com/kxc5600/LAB2/master/images/Screen%20Shot%202020-09-17%20at%2010.43.43%20PM.png)\n",
        "\n",
        "This heuristic adheres to the visibility of system status because it shows the status of incorrect information. The system conveyed the message to its users with appropriate feedback by informing and providing a direction to how to solve it such as “Please try again” and “Forgot password” almost instantly when it received the wrong password. Without the visibility of the system to inform the users about the current status, the user may not be able to decide the next step in order to accomplish their goals, nor it will be efficient to either side of the parties. "
      ]
    },
    {
      "cell_type": "markdown",
      "metadata": {
        "id": "gL-x1q02W1Vk",
        "colab_type": "text"
      },
      "source": [
        "### Match between system and the real world\n",
        "The system should speak the users' language, with words, phrases and concepts familiar to the user, rather than system-oriented terms. Follow real-world conventions, making information appear in a natural and logical order.\n",
        "\n",
        "![pic](https://raw.githubusercontent.com/kxc5600/LAB2/master/images/Screen%20Shot%202020-09-17%20at%2011.02.54%20PM.png)\n",
        "\n",
        "This heuristic adheres to match between system and the real world because it allows the user to see what they clicked on. For example, the label “Coronavirus” aligns with their version of reality which is the news section that contains all coronavirus related contents. The hover-over effect under each label on the tab also demonstrates a familiar use of visual elements for clicking. \n"
      ]
    },
    {
      "cell_type": "markdown",
      "metadata": {
        "id": "p9WB5-rtZd9I",
        "colab_type": "text"
      },
      "source": [
        "### User control and freedom\n",
        "Users often choose system functions by mistake and will need a clearly marked \"emergency exit\" to leave the unwanted state without having to go through an extended dialogue. Support undo and redo.\n",
        "\n",
        "![pic](https://raw.githubusercontent.com/kxc5600/LAB2/master/images/Screen%20Shot%202020-09-17%20at%2011.03.09%20PM.png)\n",
        "\n",
        "This heuristic adheres to user control and freedom because it allows the user to have the option to exit the webpage with a visual element such as the circle with an “X” inside. In addition, there are also elements such as customization for content that the user may not like to view. That reassures the user that the item on their webpage is subject to change.The weather section also allows users to change their location.  It allows the flexibility to edit the content that isn’t right for the user so that they have enough freedom to handle the mistakes. "
      ]
    },
    {
      "cell_type": "markdown",
      "metadata": {
        "id": "lX7j0pZ8Zedg",
        "colab_type": "text"
      },
      "source": [
        "### Consistency and standards\n",
        "Users should not have to wonder whether different words, situations, or actions mean the same thing. Follow platform conventions.\n",
        "\n",
        "![pic](https://raw.githubusercontent.com/kxc5600/LAB2/master/images/Screen%20Shot%202020-09-17%20at%2011.03.13%20PM.png)\n",
        "\n",
        "When you move from one article to another on the website, the same toolbars show up on top, and there is a consistent design language over basically the whole website. Wherever you go on yahoo.com, you can tell that you’re on the same website that articulates the same fundamental design vision."
      ]
    },
    {
      "cell_type": "markdown",
      "metadata": {
        "id": "ER6ArHdmZfSI",
        "colab_type": "text"
      },
      "source": [
        "### Error prevention\n",
        "Even better than good error messages is a careful design which prevents a problem from occurring in the first place. Either eliminate error-prone conditions or check for them and present users with a confirmation option before they commit to the action.\n",
        "\n",
        "![pic](https://raw.githubusercontent.com/kxc5600/LAB2/master/images/Screen%20Shot%202020-09-17%20at%2011.03.18%20PM.png)\n",
        "\n",
        "When creating an account for yahoo.com, you have to fill in all of the required fields for your form to be processed. If you don’t, the form will throw an error message, and you won’t be able to submit the information that you’ve already provided if it’s incomplete. This step keeps users from being able to provide inadequate data to the site to ensure the best possible experience for both the users (who likely want access to all the services that their account offers) and the site administrators (who want to collect all the data they need)."
      ]
    },
    {
      "cell_type": "markdown",
      "metadata": {
        "id": "9M3cqXkLZf7B",
        "colab_type": "text"
      },
      "source": [
        "### Recognition rather than recall\n",
        "Error messages should be expressed in plain language (no codes), precisely indicate the problem, and constructively suggest a solution.\n",
        "\n",
        "![pic](https://raw.githubusercontent.com/kxc5600/LAB2/master/images/Screen%20Shot%202020-09-17%20at%2011.03.23%20PM.png)\n",
        "\n",
        "When a user tries to recover their password for Yahoo, they have to enter their recovery email address into the field shown in the screenshot above. The site then sends a recovery email to said address. Of course, this is impossible to achieve without the address, so when someone tries to submit the form without the field being filled with the required, correctly-formatted address, the form throws an error and refuses to be submitted without being properly filled. This is achieved with a simple, red-lettered error message below the relevant text box, and does not require any user manuals or help services beyond this, at least for most users."
      ]
    },
    {
      "cell_type": "markdown",
      "metadata": {
        "id": "B4xOtXMWZgfp",
        "colab_type": "text"
      },
      "source": [
        "### Flexibility and efficiency of use \n",
        "Accelerators -- unseen by the novice user -- may often speed up the interaction for the expert user such that the system can cater to both inexperienced and experienced users. Allow users to tailor frequent actions.\n",
        "\n",
        "![pic](https://raw.githubusercontent.com/kxc5600/LAB2/master/images/Screen%20Shot%202020-09-17%20at%2011.03.28%20PM.png)\n",
        "\n",
        "This heuristic adheres to flexibility and efficiency of use because the “more” function on the top tab of the homepage allows users to see more options that are categorized. Another feature would be the scoreboard. The scoreboard allows users to get information based on a filter of “yesterday”, “today”, and “tomorrow” option and as well as to view different trending scoreboards of the user’s liking. Those options allow the user experience to be more organized and quicker to get results rather than finding each option separately on its own."
      ]
    },
    {
      "cell_type": "markdown",
      "metadata": {
        "id": "F968s-f-ZhGA",
        "colab_type": "text"
      },
      "source": [
        "### Aesthetic and minimalist design\n",
        "Dialogues should not contain information which is irrelevant or rarely needed. Every extra unit of information in a dialogue competes with the relevant units of information and diminishes their relative visibility.\n",
        "\n",
        "![pic](https://raw.githubusercontent.com/kxc5600/LAB2/master/images/Screen%20Shot%202020-09-17%20at%2011.03.33%20PM.png)\n",
        "\n",
        "Yahoo.com’s homepage does not adhere to the concept of aesthetic and minimalist design. Not many would say that Yahoo focuses on the essentials. If their goal is to relay information to the public, then highlighting current events is abiding by the heuristics. However, on the side of the website, the “trending now” column and the “scoreboard” column are not essential. Keeping that information within clickable tabs would be a better option.  "
      ]
    },
    {
      "cell_type": "markdown",
      "metadata": {
        "id": "WFtkqJ8wZhjx",
        "colab_type": "text"
      },
      "source": [
        "### Help users recognize, diagnose, and recover from errors\n",
        "Error messages should be expressed in plain language (no codes), precisely indicate the problem, and constructively suggest a solution.\n",
        "\n",
        "![pic](https://raw.githubusercontent.com/kxc5600/LAB2/master/images/Screen%20Shot%202020-09-17%20at%2011.03.36%20PM.png)\n",
        "\n",
        "Yahoo.com does abide to the ten heuristics when it comes to helping users identify errors. In this picture, I entered my password incorrectly. After typing it in incorrectly, a message appears in bright red font (which makes it easier to notice) telling me that my login attempt was unsuccessful, and that I need to try again. This error message is in plain language and very simple to see. Most websites use this when their platform requires a login and it’s clear to see why. "
      ]
    },
    {
      "cell_type": "markdown",
      "metadata": {
        "id": "x8_uAFYHZifo",
        "colab_type": "text"
      },
      "source": [
        "### Help and documentation\n",
        "Even though it is better if the system can be used without documentation, it may be necessary to provide help and documentation. Any such information should be easy to search, focused on the user's task, list concrete steps to be carried out, and not be too large.\n",
        "\n",
        "![pic](https://raw.githubusercontent.com/kxc5600/LAB2/master/images/Screen%20Shot%202020-09-17%20at%2011.03.41%20PM.png) \n",
        "\n",
        "Yahoo.com is a little mixed when it comes to the help and documentation heuristic.It abides by the heuristic in terms of that it is easy to search for things. When logging into Yahoo, one of the very first things you see is the search bar as it is big and right in the middle of your screen. However, it does not abide by the heuristic as there is no immediate help button. On most websites, there will be a help button, where steps will be laid out to assist you with your problem. But on Yahoo, you can not locate a help button right away because you have to scroll down a decent amount for it to pop up in the bottom right.  "
      ]
    }
  ]
}